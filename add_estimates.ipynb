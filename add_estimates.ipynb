{
  "nbformat": 4,
  "nbformat_minor": 0,
  "metadata": {
    "colab": {
      "provenance": [],
      "authorship_tag": "ABX9TyMp1vOvPShzWnW+BxTf2ojI",
      "include_colab_link": true
    },
    "kernelspec": {
      "name": "python3",
      "display_name": "Python 3"
    },
    "language_info": {
      "name": "python"
    }
  },
  "cells": [
    {
      "cell_type": "markdown",
      "metadata": {
        "id": "view-in-github",
        "colab_type": "text"
      },
      "source": [
        "<a href=\"https://colab.research.google.com/github/kelhob/Python/blob/master/add_estimates.ipynb\" target=\"_parent\"><img src=\"https://colab.research.google.com/assets/colab-badge.svg\" alt=\"Open In Colab\"/></a>"
      ]
    },
    {
      "cell_type": "code",
      "execution_count": 9,
      "metadata": {
        "colab": {
          "base_uri": "https://localhost:8080/"
        },
        "id": "Ns_yFmg94N8H",
        "outputId": "45384469-12d6-48e6-b4d0-d0720f956091"
      },
      "outputs": [
        {
          "output_type": "stream",
          "name": "stdout",
          "text": [
            "   Entry Date Role Association short name ProjectName  Hours  Comment       TaskName    phaseName FullName\n",
            "0   11/5/2023  Dev                   NCRF        EDGE      1      NaN        Testing  Replacement      Jay\n",
            "1   12/1/2023   PM                   NCRF        EDGE     10      NaN  Documentation  Replacement      Val\n",
            "2   12/8/2023   BA                   NCRF        EDGE      5      NaN      Reporting  Replacement     Mike\n",
            "3   11/5/2023  Dev                   NCRF        EDGE      1      NaN        Testing   Recoupment      Jay\n",
            "4   12/1/2023   PM                   NCRF        EDGE     10      NaN  Documentation   Recoupment      Val\n",
            "5   12/8/2023   BA                   NCRF        EDGE      5      NaN      Reporting   Recoupment     Mike\n",
            "6   11/5/2023  Dev                   NCRF    AuditHub      1      NaN        Testing      NewPrem      Jay\n",
            "7   12/1/2023   PM                   NCRF    AuditHub     11      NaN  Documentation      NewPrem      Val\n",
            "8   12/8/2023   BA                   NCRF    AuditHub      3      NaN      Reporting      NewPrem     Mike\n",
            "9   11/5/2023  Dev                   NCRF    AuditHub      6      NaN        Testing    LossTotal      Jay\n",
            "10  12/1/2023   PM                   NCRF    AuditHub     10      NaN  Documentation    LossTotal      Val\n",
            "11  12/8/2023   BA                   NCRF    AuditHub      1      NaN      Reporting    LossTotal     Mike\n"
          ]
        }
      ],
      "source": [
        "import pandas as pd\n",
        "\n",
        "df = pd.read_csv('TestingEstimates_noest.csv')\n",
        "\n",
        "print(df.to_string())"
      ]
    },
    {
      "cell_type": "code",
      "source": [
        "df=df.assign(EstimateProject=0)"
      ],
      "metadata": {
        "id": "8V2sbf9DCo3O"
      },
      "execution_count": 10,
      "outputs": []
    },
    {
      "cell_type": "code",
      "source": [
        "df=df.assign(EstimatePhase=0)"
      ],
      "metadata": {
        "id": "4aZm8jOxDFBk"
      },
      "execution_count": 11,
      "outputs": []
    },
    {
      "cell_type": "code",
      "source": [
        "print(df)"
      ],
      "metadata": {
        "colab": {
          "base_uri": "https://localhost:8080/"
        },
        "id": "-l0MIEj8DIJu",
        "outputId": "cf0c6509-976f-4d0a-abe5-582e84444dd9"
      },
      "execution_count": 12,
      "outputs": [
        {
          "output_type": "stream",
          "name": "stdout",
          "text": [
            "   Entry Date Role Association short name ProjectName  Hours  Comment  \\\n",
            "0   11/5/2023  Dev                   NCRF        EDGE      1      NaN   \n",
            "1   12/1/2023   PM                   NCRF        EDGE     10      NaN   \n",
            "2   12/8/2023   BA                   NCRF        EDGE      5      NaN   \n",
            "3   11/5/2023  Dev                   NCRF        EDGE      1      NaN   \n",
            "4   12/1/2023   PM                   NCRF        EDGE     10      NaN   \n",
            "5   12/8/2023   BA                   NCRF        EDGE      5      NaN   \n",
            "6   11/5/2023  Dev                   NCRF    AuditHub      1      NaN   \n",
            "7   12/1/2023   PM                   NCRF    AuditHub     11      NaN   \n",
            "8   12/8/2023   BA                   NCRF    AuditHub      3      NaN   \n",
            "9   11/5/2023  Dev                   NCRF    AuditHub      6      NaN   \n",
            "10  12/1/2023   PM                   NCRF    AuditHub     10      NaN   \n",
            "11  12/8/2023   BA                   NCRF    AuditHub      1      NaN   \n",
            "\n",
            "         TaskName    phaseName FullName  EstimateProject  EstimatePhase  \n",
            "0         Testing  Replacement      Jay                0              0  \n",
            "1   Documentation  Replacement      Val                0              0  \n",
            "2       Reporting  Replacement     Mike                0              0  \n",
            "3         Testing   Recoupment      Jay                0              0  \n",
            "4   Documentation   Recoupment      Val                0              0  \n",
            "5       Reporting   Recoupment     Mike                0              0  \n",
            "6         Testing      NewPrem      Jay                0              0  \n",
            "7   Documentation      NewPrem      Val                0              0  \n",
            "8       Reporting      NewPrem     Mike                0              0  \n",
            "9         Testing    LossTotal      Jay                0              0  \n",
            "10  Documentation    LossTotal      Val                0              0  \n",
            "11      Reporting    LossTotal     Mike                0              0  \n"
          ]
        }
      ]
    }
  ]
}